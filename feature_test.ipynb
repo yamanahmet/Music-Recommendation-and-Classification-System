{
 "cells": [
  {
   "cell_type": "code",
   "execution_count": 1,
   "metadata": {},
   "outputs": [],
   "source": [
    "import librosa, librosa.display\n",
    "import numpy as np\n",
    "import matplotlib.pyplot as plt\n",
    "import pandas as pd\n",
    "from pathlib import Path\n",
    "%matplotlib inline\n",
    "import scipy, sklearn\n",
    "import IPython.display as ipd\n",
    "import os\n",
    "from tqdm import tqdm\n",
    "from scipy.stats import kurtosis\n",
    "from scipy.stats import skew\n",
    "import statsmodels.api as sm"
   ]
  },
  {
   "cell_type": "code",
   "execution_count": 2,
   "metadata": {},
   "outputs": [
    {
     "name": "stdout",
     "output_type": "stream",
     "text": [
      "(1000, 267)\n"
     ]
    }
   ],
   "source": [
    "#Reading features from csv files\n",
    "features_nodelta = pd.read_csv('outputs/scaled_features.csv')\n",
    "print(features_nodelta.shape)"
   ]
  },
  {
   "cell_type": "code",
   "execution_count": 3,
   "metadata": {},
   "outputs": [],
   "source": [
    "spectral_x = features_nodelta.iloc[:,0:49]\n",
    "\n",
    "mfcc_x = features_nodelta.iloc[:,49:140]\n",
    "\n",
    "cqt_x = features_nodelta.iloc[:,140:224]\n",
    "\n",
    "poly_x = features_nodelta.iloc[:,224:266]\n",
    "\n",
    "y = features_nodelta.iloc[:,-1:].values.reshape((1000,)) #genres"
   ]
  },
  {
   "cell_type": "code",
   "execution_count": 4,
   "metadata": {},
   "outputs": [
    {
     "name": "stdout",
     "output_type": "stream",
     "text": [
      "SVC ve SPectral ile sonuclar\n",
      "Accuracy:  0.569\n",
      "Recall:  0.569\n",
      "Precision:  0.562035909098573\n",
      "F1 Score :  0.5642822176473844\n",
      "Cohens Kappa :  0.5211111111111111\n"
     ]
    },
    {
     "name": "stderr",
     "output_type": "stream",
     "text": [
      "C:\\Users\\Deniz\\anaconda3\\lib\\site-packages\\sklearn\\neural_network\\_multilayer_perceptron.py:582: ConvergenceWarning: Stochastic Optimizer: Maximum iterations (1000) reached and the optimization hasn't converged yet.\n",
      "  warnings.warn(\n",
      "C:\\Users\\Deniz\\anaconda3\\lib\\site-packages\\sklearn\\neural_network\\_multilayer_perceptron.py:582: ConvergenceWarning: Stochastic Optimizer: Maximum iterations (1000) reached and the optimization hasn't converged yet.\n",
      "  warnings.warn(\n",
      "C:\\Users\\Deniz\\anaconda3\\lib\\site-packages\\sklearn\\neural_network\\_multilayer_perceptron.py:582: ConvergenceWarning: Stochastic Optimizer: Maximum iterations (1000) reached and the optimization hasn't converged yet.\n",
      "  warnings.warn(\n",
      "C:\\Users\\Deniz\\anaconda3\\lib\\site-packages\\sklearn\\neural_network\\_multilayer_perceptron.py:582: ConvergenceWarning: Stochastic Optimizer: Maximum iterations (1000) reached and the optimization hasn't converged yet.\n",
      "  warnings.warn(\n"
     ]
    },
    {
     "name": "stdout",
     "output_type": "stream",
     "text": [
      "\n",
      "\n",
      "Neural Net ve SPectral ile sonuclar\n",
      "Accuracy:  0.567\n",
      "Recall:  0.567\n",
      "Precision:  0.5629978392468432\n",
      "F1 Score :  0.5637124347618092\n",
      "Cohens Kappa :  0.518888888888889\n"
     ]
    },
    {
     "name": "stderr",
     "output_type": "stream",
     "text": [
      "C:\\Users\\Deniz\\anaconda3\\lib\\site-packages\\sklearn\\neural_network\\_multilayer_perceptron.py:582: ConvergenceWarning: Stochastic Optimizer: Maximum iterations (1000) reached and the optimization hasn't converged yet.\n",
      "  warnings.warn(\n"
     ]
    }
   ],
   "source": [
    "# confusion matrix accuracy precision recall f1 kappa\n",
    "#turevsiz\n",
    "from sklearn.metrics import confusion_matrix, ConfusionMatrixDisplay\n",
    "from sklearn.model_selection import cross_val_predict\n",
    "from sklearn.metrics import accuracy_score, precision_score, recall_score, cohen_kappa_score, f1_score\n",
    "from sklearn.neural_network import MLPClassifier\n",
    "\n",
    "\n",
    "svc_clf = sklearn.svm.SVC(C=30, degree=3,gamma='scale',kernel='rbf')\n",
    "y_pred= cross_val_predict(svc_clf, spectral_x, y, cv=5)\n",
    "print(\"SVC ve SPectral ile sonuclar\")\n",
    "print(\"Accuracy: \",accuracy_score(y, y_pred))\n",
    "print(\"Recall: \",recall_score(y, y_pred, average = 'macro'))\n",
    "print(\"Precision: \",precision_score(y, y_pred, average ='macro'))\n",
    "print(\"F1 Score : \",f1_score(y, y_pred, average='macro'))\n",
    "print(\"Cohens Kappa : \",cohen_kappa_score(y, y_pred))\n",
    "\n",
    "mlp_clf = MLPClassifier(activation = 'relu', hidden_layer_sizes=(200,), max_iter = 1000, solver='adam')\n",
    "y_pred = cross_val_predict(mlp_clf, spectral_x, y, cv=5)\n",
    "\n",
    "print(\"\\n\\nNeural Net ve SPectral ile sonuclar\")\n",
    "print(\"Accuracy: \",accuracy_score(y, y_pred))\n",
    "print(\"Recall: \",recall_score(y, y_pred, average = 'macro'))\n",
    "print(\"Precision: \",precision_score(y, y_pred, average ='macro'))\n",
    "print(\"F1 Score : \",f1_score(y, y_pred, average='macro'))\n",
    "print(\"Cohens Kappa : \",cohen_kappa_score(y, y_pred))"
   ]
  },
  {
   "cell_type": "code",
   "execution_count": 5,
   "metadata": {},
   "outputs": [
    {
     "name": "stdout",
     "output_type": "stream",
     "text": [
      "SVC ve MFCC ile sonuclar\n",
      "Accuracy:  0.612\n",
      "Recall:  0.612\n",
      "Precision:  0.6017040043525029\n",
      "F1 Score :  0.6047515652410878\n",
      "Cohens Kappa :  0.568888888888889\n"
     ]
    },
    {
     "name": "stderr",
     "output_type": "stream",
     "text": [
      "C:\\Users\\Deniz\\anaconda3\\lib\\site-packages\\sklearn\\neural_network\\_multilayer_perceptron.py:582: ConvergenceWarning: Stochastic Optimizer: Maximum iterations (1000) reached and the optimization hasn't converged yet.\n",
      "  warnings.warn(\n"
     ]
    },
    {
     "name": "stdout",
     "output_type": "stream",
     "text": [
      "\n",
      "\n",
      "Neural Net ve MFCC ile sonuclar\n",
      "Accuracy:  0.603\n",
      "Recall:  0.6030000000000001\n",
      "Precision:  0.5975605514638573\n",
      "F1 Score :  0.5983766481362289\n",
      "Cohens Kappa :  0.5588888888888888\n"
     ]
    }
   ],
   "source": [
    "svc_clf = sklearn.svm.SVC(C=30, degree=3,gamma='scale',kernel='rbf')\n",
    "y_pred= cross_val_predict(svc_clf, mfcc_x, y, cv=5)\n",
    "print(\"SVC ve MFCC ile sonuclar\")\n",
    "print(\"Accuracy: \",accuracy_score(y, y_pred))\n",
    "print(\"Recall: \",recall_score(y, y_pred, average = 'macro'))\n",
    "print(\"Precision: \",precision_score(y, y_pred, average ='macro'))\n",
    "print(\"F1 Score : \",f1_score(y, y_pred, average='macro'))\n",
    "print(\"Cohens Kappa : \",cohen_kappa_score(y, y_pred))\n",
    "\n",
    "mlp_clf = MLPClassifier(activation = 'relu', hidden_layer_sizes=(200,), max_iter = 1000, solver='adam')\n",
    "y_pred = cross_val_predict(mlp_clf, mfcc_x, y, cv=5)\n",
    "\n",
    "print(\"\\n\\nNeural Net ve MFCC ile sonuclar\")\n",
    "print(\"Accuracy: \",accuracy_score(y, y_pred))\n",
    "print(\"Recall: \",recall_score(y, y_pred, average = 'macro'))\n",
    "print(\"Precision: \",precision_score(y, y_pred, average ='macro'))\n",
    "print(\"F1 Score : \",f1_score(y, y_pred, average='macro'))\n",
    "print(\"Cohens Kappa : \",cohen_kappa_score(y, y_pred))\n"
   ]
  },
  {
   "cell_type": "code",
   "execution_count": 6,
   "metadata": {},
   "outputs": [
    {
     "name": "stdout",
     "output_type": "stream",
     "text": [
      "SVC ve CQT ile sonuclar\n",
      "Accuracy:  0.356\n",
      "Recall:  0.35600000000000004\n",
      "Precision:  0.35012565753167146\n",
      "F1 Score :  0.350246245299273\n",
      "Cohens Kappa :  0.2844444444444445\n"
     ]
    },
    {
     "name": "stderr",
     "output_type": "stream",
     "text": [
      "C:\\Users\\Deniz\\anaconda3\\lib\\site-packages\\sklearn\\neural_network\\_multilayer_perceptron.py:582: ConvergenceWarning: Stochastic Optimizer: Maximum iterations (1000) reached and the optimization hasn't converged yet.\n",
      "  warnings.warn(\n",
      "C:\\Users\\Deniz\\anaconda3\\lib\\site-packages\\sklearn\\neural_network\\_multilayer_perceptron.py:582: ConvergenceWarning: Stochastic Optimizer: Maximum iterations (1000) reached and the optimization hasn't converged yet.\n",
      "  warnings.warn(\n",
      "C:\\Users\\Deniz\\anaconda3\\lib\\site-packages\\sklearn\\neural_network\\_multilayer_perceptron.py:582: ConvergenceWarning: Stochastic Optimizer: Maximum iterations (1000) reached and the optimization hasn't converged yet.\n",
      "  warnings.warn(\n"
     ]
    },
    {
     "name": "stdout",
     "output_type": "stream",
     "text": [
      "\n",
      "\n",
      "Neural Net ve CQT ile sonuclar\n",
      "Accuracy:  0.334\n",
      "Recall:  0.33399999999999996\n",
      "Precision:  0.32568370494118526\n",
      "F1 Score :  0.3284448009299157\n",
      "Cohens Kappa :  0.26\n"
     ]
    }
   ],
   "source": [
    "svc_clf = sklearn.svm.SVC(C=30, degree=3,gamma='scale',kernel='rbf')\n",
    "y_pred= cross_val_predict(svc_clf, cqt_x, y, cv=5)\n",
    "print(\"SVC ve CQT ile sonuclar\")\n",
    "print(\"Accuracy: \",accuracy_score(y, y_pred))\n",
    "print(\"Recall: \",recall_score(y, y_pred, average = 'macro'))\n",
    "print(\"Precision: \",precision_score(y, y_pred, average ='macro'))\n",
    "print(\"F1 Score : \",f1_score(y, y_pred, average='macro'))\n",
    "print(\"Cohens Kappa : \",cohen_kappa_score(y, y_pred))\n",
    "\n",
    "mlp_clf = MLPClassifier(activation = 'relu', hidden_layer_sizes=(200,), max_iter = 1000, solver='adam')\n",
    "y_pred = cross_val_predict(mlp_clf, cqt_x, y, cv=5)\n",
    "\n",
    "print(\"\\n\\nNeural Net ve CQT ile sonuclar\")\n",
    "print(\"Accuracy: \",accuracy_score(y, y_pred))\n",
    "print(\"Recall: \",recall_score(y, y_pred, average = 'macro'))\n",
    "print(\"Precision: \",precision_score(y, y_pred, average ='macro'))\n",
    "print(\"F1 Score : \",f1_score(y, y_pred, average='macro'))\n",
    "print(\"Cohens Kappa : \",cohen_kappa_score(y, y_pred))\n"
   ]
  },
  {
   "cell_type": "code",
   "execution_count": 7,
   "metadata": {},
   "outputs": [
    {
     "name": "stdout",
     "output_type": "stream",
     "text": [
      "SVC ve poly ile sonuclar\n",
      "Accuracy:  0.473\n",
      "Recall:  0.473\n",
      "Precision:  0.4714229826654971\n",
      "F1 Score :  0.47020521937654924\n",
      "Cohens Kappa :  0.4144444444444445\n"
     ]
    },
    {
     "name": "stderr",
     "output_type": "stream",
     "text": [
      "C:\\Users\\Deniz\\anaconda3\\lib\\site-packages\\sklearn\\neural_network\\_multilayer_perceptron.py:582: ConvergenceWarning: Stochastic Optimizer: Maximum iterations (1000) reached and the optimization hasn't converged yet.\n",
      "  warnings.warn(\n",
      "C:\\Users\\Deniz\\anaconda3\\lib\\site-packages\\sklearn\\neural_network\\_multilayer_perceptron.py:582: ConvergenceWarning: Stochastic Optimizer: Maximum iterations (1000) reached and the optimization hasn't converged yet.\n",
      "  warnings.warn(\n",
      "C:\\Users\\Deniz\\anaconda3\\lib\\site-packages\\sklearn\\neural_network\\_multilayer_perceptron.py:582: ConvergenceWarning: Stochastic Optimizer: Maximum iterations (1000) reached and the optimization hasn't converged yet.\n",
      "  warnings.warn(\n"
     ]
    },
    {
     "name": "stdout",
     "output_type": "stream",
     "text": [
      "\n",
      "\n",
      "Neural Net ve poly ile sonuclar\n",
      "Accuracy:  0.465\n",
      "Recall:  0.46499999999999997\n",
      "Precision:  0.4599241165732136\n",
      "F1 Score :  0.460769010919576\n",
      "Cohens Kappa :  0.40555555555555545\n"
     ]
    },
    {
     "name": "stderr",
     "output_type": "stream",
     "text": [
      "C:\\Users\\Deniz\\anaconda3\\lib\\site-packages\\sklearn\\neural_network\\_multilayer_perceptron.py:582: ConvergenceWarning: Stochastic Optimizer: Maximum iterations (1000) reached and the optimization hasn't converged yet.\n",
      "  warnings.warn(\n"
     ]
    }
   ],
   "source": [
    "svc_clf = sklearn.svm.SVC(C=30, degree=3,gamma='scale',kernel='rbf')\n",
    "y_pred= cross_val_predict(svc_clf, poly_x, y, cv=5)\n",
    "print(\"SVC ve poly ile sonuclar\")\n",
    "print(\"Accuracy: \",accuracy_score(y, y_pred))\n",
    "print(\"Recall: \",recall_score(y, y_pred, average = 'macro'))\n",
    "print(\"Precision: \",precision_score(y, y_pred, average ='macro'))\n",
    "print(\"F1 Score : \",f1_score(y, y_pred, average='macro'))\n",
    "print(\"Cohens Kappa : \",cohen_kappa_score(y, y_pred))\n",
    "\n",
    "mlp_clf = MLPClassifier(activation = 'relu', hidden_layer_sizes=(200,), max_iter = 1000, solver='adam')\n",
    "y_pred = cross_val_predict(mlp_clf, poly_x, y, cv=5)\n",
    "\n",
    "print(\"\\n\\nNeural Net ve poly ile sonuclar\")\n",
    "print(\"Accuracy: \",accuracy_score(y, y_pred))\n",
    "print(\"Recall: \",recall_score(y, y_pred, average = 'macro'))\n",
    "print(\"Precision: \",precision_score(y, y_pred, average ='macro'))\n",
    "print(\"F1 Score : \",f1_score(y, y_pred, average='macro'))\n",
    "print(\"Cohens Kappa : \",cohen_kappa_score(y, y_pred))"
   ]
  },
  {
   "cell_type": "code",
   "execution_count": 8,
   "metadata": {},
   "outputs": [],
   "source": [
    "spectral_mfcc_x = pd.concat([spectral_x, mfcc_x], axis=1)\n",
    "\n",
    "spectral_mfcc_cqt_x = pd.concat([spectral_mfcc_x, cqt_x], axis=1)\n",
    "\n",
    "spectral_cqt_x = pd.concat([spectral_x, cqt_x], axis=1)\n",
    "\n",
    "mfcc_cqt_x = pd.concat([mfcc_x, cqt_x], axis=1)\n",
    "\n",
    "spectral_poly_x = pd.concat([spectral_x, poly_x], axis=1)\n",
    "\n",
    "mfcc_poly_x = pd.concat([mfcc_x, poly_x], axis=1)"
   ]
  },
  {
   "cell_type": "code",
   "execution_count": 9,
   "metadata": {},
   "outputs": [
    {
     "name": "stdout",
     "output_type": "stream",
     "text": [
      "SVC ve SPectral ve MFCC ile sonuclar\n",
      "Accuracy:  0.64\n",
      "Recall:  0.6399999999999999\n",
      "Precision:  0.6326222030861126\n",
      "F1 Score :  0.6344109646397175\n",
      "Cohens Kappa :  0.6000000000000001\n"
     ]
    },
    {
     "name": "stderr",
     "output_type": "stream",
     "text": [
      "C:\\Users\\Deniz\\anaconda3\\lib\\site-packages\\sklearn\\neural_network\\_multilayer_perceptron.py:582: ConvergenceWarning: Stochastic Optimizer: Maximum iterations (1000) reached and the optimization hasn't converged yet.\n",
      "  warnings.warn(\n",
      "C:\\Users\\Deniz\\anaconda3\\lib\\site-packages\\sklearn\\neural_network\\_multilayer_perceptron.py:582: ConvergenceWarning: Stochastic Optimizer: Maximum iterations (1000) reached and the optimization hasn't converged yet.\n",
      "  warnings.warn(\n"
     ]
    },
    {
     "name": "stdout",
     "output_type": "stream",
     "text": [
      "\n",
      "\n",
      "Neural Net ve Spectral ve MFCC ile sonuclar\n",
      "Accuracy:  0.651\n",
      "Recall:  0.651\n",
      "Precision:  0.645248284540805\n",
      "F1 Score :  0.6467174905152933\n",
      "Cohens Kappa :  0.6122222222222222\n"
     ]
    }
   ],
   "source": [
    "svc_clf = sklearn.svm.SVC(C=30, degree=3,gamma='scale',kernel='rbf')\n",
    "y_pred= cross_val_predict(svc_clf, spectral_mfcc_x, y, cv=5)\n",
    "print(\"SVC ve SPectral ve MFCC ile sonuclar\")\n",
    "print(\"Accuracy: \",accuracy_score(y, y_pred))\n",
    "print(\"Recall: \",recall_score(y, y_pred, average = 'macro'))\n",
    "print(\"Precision: \",precision_score(y, y_pred, average ='macro'))\n",
    "print(\"F1 Score : \",f1_score(y, y_pred, average='macro'))\n",
    "print(\"Cohens Kappa : \",cohen_kappa_score(y, y_pred))\n",
    "\n",
    "mlp_clf = MLPClassifier(activation = 'relu', hidden_layer_sizes=(200,), max_iter = 1000, solver='adam')\n",
    "y_pred = cross_val_predict(mlp_clf, spectral_mfcc_x, y, cv=5)\n",
    "\n",
    "print(\"\\n\\nNeural Net ve Spectral ve MFCC ile sonuclar\")\n",
    "print(\"Accuracy: \",accuracy_score(y, y_pred))\n",
    "print(\"Recall: \",recall_score(y, y_pred, average = 'macro'))\n",
    "print(\"Precision: \",precision_score(y, y_pred, average ='macro'))\n",
    "print(\"F1 Score : \",f1_score(y, y_pred, average='macro'))\n",
    "print(\"Cohens Kappa : \",cohen_kappa_score(y, y_pred))"
   ]
  },
  {
   "cell_type": "code",
   "execution_count": 10,
   "metadata": {},
   "outputs": [
    {
     "name": "stdout",
     "output_type": "stream",
     "text": [
      "SVC ve SPectral ve MFCC CQT ile sonuclar\n",
      "Accuracy:  0.667\n",
      "Recall:  0.667\n",
      "Precision:  0.6616377091017769\n",
      "F1 Score :  0.6631531657970193\n",
      "Cohens Kappa :  0.63\n",
      "\n",
      "\n",
      "Neural Net ve Spectral ve MFCC CQT ile sonuclar\n",
      "Accuracy:  0.651\n",
      "Recall:  0.651\n",
      "Precision:  0.6461315678629307\n",
      "F1 Score :  0.6471121639027103\n",
      "Cohens Kappa :  0.6122222222222222\n"
     ]
    }
   ],
   "source": [
    "svc_clf = sklearn.svm.SVC(C=30, degree=3,gamma='scale',kernel='rbf')\n",
    "y_pred= cross_val_predict(svc_clf, spectral_mfcc_cqt_x, y, cv=5)\n",
    "print(\"SVC ve SPectral ve MFCC CQT ile sonuclar\")\n",
    "print(\"Accuracy: \",accuracy_score(y, y_pred))\n",
    "print(\"Recall: \",recall_score(y, y_pred, average = 'macro'))\n",
    "print(\"Precision: \",precision_score(y, y_pred, average ='macro'))\n",
    "print(\"F1 Score : \",f1_score(y, y_pred, average='macro'))\n",
    "print(\"Cohens Kappa : \",cohen_kappa_score(y, y_pred))\n",
    "\n",
    "mlp_clf = MLPClassifier(activation = 'relu', hidden_layer_sizes=(200,), max_iter = 1000, solver='adam')\n",
    "y_pred = cross_val_predict(mlp_clf, spectral_mfcc_cqt_x, y, cv=5)\n",
    "\n",
    "print(\"\\n\\nNeural Net ve Spectral ve MFCC CQT ile sonuclar\")\n",
    "print(\"Accuracy: \",accuracy_score(y, y_pred))\n",
    "print(\"Recall: \",recall_score(y, y_pred, average = 'macro'))\n",
    "print(\"Precision: \",precision_score(y, y_pred, average ='macro'))\n",
    "print(\"F1 Score : \",f1_score(y, y_pred, average='macro'))\n",
    "print(\"Cohens Kappa : \",cohen_kappa_score(y, y_pred))"
   ]
  },
  {
   "cell_type": "code",
   "execution_count": 11,
   "metadata": {},
   "outputs": [
    {
     "name": "stdout",
     "output_type": "stream",
     "text": [
      "SVC ve SPectral ve CQT ile sonuclar\n",
      "Accuracy:  0.542\n",
      "Recall:  0.5419999999999999\n",
      "Precision:  0.5399685127041387\n",
      "F1 Score :  0.5389147755635952\n",
      "Cohens Kappa :  0.49111111111111094\n"
     ]
    },
    {
     "name": "stderr",
     "output_type": "stream",
     "text": [
      "C:\\Users\\Deniz\\anaconda3\\lib\\site-packages\\sklearn\\neural_network\\_multilayer_perceptron.py:582: ConvergenceWarning: Stochastic Optimizer: Maximum iterations (1000) reached and the optimization hasn't converged yet.\n",
      "  warnings.warn(\n",
      "C:\\Users\\Deniz\\anaconda3\\lib\\site-packages\\sklearn\\neural_network\\_multilayer_perceptron.py:582: ConvergenceWarning: Stochastic Optimizer: Maximum iterations (1000) reached and the optimization hasn't converged yet.\n",
      "  warnings.warn(\n",
      "C:\\Users\\Deniz\\anaconda3\\lib\\site-packages\\sklearn\\neural_network\\_multilayer_perceptron.py:582: ConvergenceWarning: Stochastic Optimizer: Maximum iterations (1000) reached and the optimization hasn't converged yet.\n",
      "  warnings.warn(\n"
     ]
    },
    {
     "name": "stdout",
     "output_type": "stream",
     "text": [
      "\n",
      "\n",
      "Neural Net ve Spectral ve CQT ile sonuclar\n",
      "Accuracy:  0.561\n",
      "Recall:  0.561\n",
      "Precision:  0.5582387866170948\n",
      "F1 Score :  0.5581927551110459\n",
      "Cohens Kappa :  0.5122222222222221\n"
     ]
    },
    {
     "name": "stderr",
     "output_type": "stream",
     "text": [
      "C:\\Users\\Deniz\\anaconda3\\lib\\site-packages\\sklearn\\neural_network\\_multilayer_perceptron.py:582: ConvergenceWarning: Stochastic Optimizer: Maximum iterations (1000) reached and the optimization hasn't converged yet.\n",
      "  warnings.warn(\n"
     ]
    }
   ],
   "source": [
    "svc_clf = sklearn.svm.SVC(C=30, degree=3,gamma='scale',kernel='rbf')\n",
    "y_pred= cross_val_predict(svc_clf, spectral_cqt_x, y, cv=5)\n",
    "print(\"SVC ve SPectral ve CQT ile sonuclar\")\n",
    "print(\"Accuracy: \",accuracy_score(y, y_pred))\n",
    "print(\"Recall: \",recall_score(y, y_pred, average = 'macro'))\n",
    "print(\"Precision: \",precision_score(y, y_pred, average ='macro'))\n",
    "print(\"F1 Score : \",f1_score(y, y_pred, average='macro'))\n",
    "print(\"Cohens Kappa : \",cohen_kappa_score(y, y_pred))\n",
    "\n",
    "mlp_clf = MLPClassifier(activation = 'relu', hidden_layer_sizes=(200,), max_iter = 1000, solver='adam')\n",
    "y_pred = cross_val_predict(mlp_clf, spectral_cqt_x, y, cv=5)\n",
    "\n",
    "print(\"\\n\\nNeural Net ve Spectral ve CQT ile sonuclar\")\n",
    "print(\"Accuracy: \",accuracy_score(y, y_pred))\n",
    "print(\"Recall: \",recall_score(y, y_pred, average = 'macro'))\n",
    "print(\"Precision: \",precision_score(y, y_pred, average ='macro'))\n",
    "print(\"F1 Score : \",f1_score(y, y_pred, average='macro'))\n",
    "print(\"Cohens Kappa : \",cohen_kappa_score(y, y_pred))"
   ]
  },
  {
   "cell_type": "code",
   "execution_count": 12,
   "metadata": {},
   "outputs": [
    {
     "name": "stdout",
     "output_type": "stream",
     "text": [
      "SVC ve MFCC ve CQT ile sonuclar\n",
      "Accuracy:  0.623\n",
      "Recall:  0.6230000000000001\n",
      "Precision:  0.6171207171608792\n",
      "F1 Score :  0.6181346520224991\n",
      "Cohens Kappa :  0.5811111111111111\n",
      "\n",
      "\n",
      "Neural Net ve MFCC ve CQT ile sonuclar\n",
      "Accuracy:  0.608\n",
      "Recall:  0.608\n",
      "Precision:  0.6066457163845569\n",
      "F1 Score :  0.6051737779796605\n",
      "Cohens Kappa :  0.5644444444444445\n"
     ]
    },
    {
     "name": "stderr",
     "output_type": "stream",
     "text": [
      "C:\\Users\\Deniz\\anaconda3\\lib\\site-packages\\sklearn\\neural_network\\_multilayer_perceptron.py:582: ConvergenceWarning: Stochastic Optimizer: Maximum iterations (1000) reached and the optimization hasn't converged yet.\n",
      "  warnings.warn(\n"
     ]
    }
   ],
   "source": [
    "svc_clf = sklearn.svm.SVC(C=30, degree=3,gamma='scale',kernel='rbf')\n",
    "y_pred= cross_val_predict(svc_clf, mfcc_cqt_x, y, cv=5)\n",
    "print(\"SVC ve MFCC ve CQT ile sonuclar\")\n",
    "print(\"Accuracy: \",accuracy_score(y, y_pred))\n",
    "print(\"Recall: \",recall_score(y, y_pred, average = 'macro'))\n",
    "print(\"Precision: \",precision_score(y, y_pred, average ='macro'))\n",
    "print(\"F1 Score : \",f1_score(y, y_pred, average='macro'))\n",
    "print(\"Cohens Kappa : \",cohen_kappa_score(y, y_pred))\n",
    "\n",
    "mlp_clf = MLPClassifier(activation = 'relu', hidden_layer_sizes=(200,), max_iter = 1000, solver='adam')\n",
    "y_pred = cross_val_predict(mlp_clf, mfcc_cqt_x, y, cv=5)\n",
    "\n",
    "print(\"\\n\\nNeural Net ve MFCC ve CQT ile sonuclar\")\n",
    "print(\"Accuracy: \",accuracy_score(y, y_pred))\n",
    "print(\"Recall: \",recall_score(y, y_pred, average = 'macro'))\n",
    "print(\"Precision: \",precision_score(y, y_pred, average ='macro'))\n",
    "print(\"F1 Score : \",f1_score(y, y_pred, average='macro'))\n",
    "print(\"Cohens Kappa : \",cohen_kappa_score(y, y_pred))"
   ]
  },
  {
   "cell_type": "code",
   "execution_count": 13,
   "metadata": {},
   "outputs": [
    {
     "name": "stdout",
     "output_type": "stream",
     "text": [
      "SVC ve spectral ve poly ile sonuclar\n",
      "Accuracy:  0.578\n",
      "Recall:  0.5780000000000001\n",
      "Precision:  0.5842143386488685\n",
      "F1 Score :  0.578766532204291\n",
      "Cohens Kappa :  0.5311111111111111\n"
     ]
    },
    {
     "name": "stderr",
     "output_type": "stream",
     "text": [
      "C:\\Users\\Deniz\\anaconda3\\lib\\site-packages\\sklearn\\neural_network\\_multilayer_perceptron.py:582: ConvergenceWarning: Stochastic Optimizer: Maximum iterations (1000) reached and the optimization hasn't converged yet.\n",
      "  warnings.warn(\n",
      "C:\\Users\\Deniz\\anaconda3\\lib\\site-packages\\sklearn\\neural_network\\_multilayer_perceptron.py:582: ConvergenceWarning: Stochastic Optimizer: Maximum iterations (1000) reached and the optimization hasn't converged yet.\n",
      "  warnings.warn(\n",
      "C:\\Users\\Deniz\\anaconda3\\lib\\site-packages\\sklearn\\neural_network\\_multilayer_perceptron.py:582: ConvergenceWarning: Stochastic Optimizer: Maximum iterations (1000) reached and the optimization hasn't converged yet.\n",
      "  warnings.warn(\n",
      "C:\\Users\\Deniz\\anaconda3\\lib\\site-packages\\sklearn\\neural_network\\_multilayer_perceptron.py:582: ConvergenceWarning: Stochastic Optimizer: Maximum iterations (1000) reached and the optimization hasn't converged yet.\n",
      "  warnings.warn(\n"
     ]
    },
    {
     "name": "stdout",
     "output_type": "stream",
     "text": [
      "\n",
      "\n",
      "Neural Net ve spectral ve poly ile sonuclar\n",
      "Accuracy:  0.592\n",
      "Recall:  0.592\n",
      "Precision:  0.5921330567999264\n",
      "F1 Score :  0.5911700918133584\n",
      "Cohens Kappa :  0.5466666666666667\n"
     ]
    },
    {
     "name": "stderr",
     "output_type": "stream",
     "text": [
      "C:\\Users\\Deniz\\anaconda3\\lib\\site-packages\\sklearn\\neural_network\\_multilayer_perceptron.py:582: ConvergenceWarning: Stochastic Optimizer: Maximum iterations (1000) reached and the optimization hasn't converged yet.\n",
      "  warnings.warn(\n"
     ]
    }
   ],
   "source": [
    "svc_clf = sklearn.svm.SVC(C=30, degree=3,gamma='scale',kernel='rbf')\n",
    "y_pred= cross_val_predict(svc_clf, spectral_poly_x, y, cv=5)\n",
    "print(\"SVC ve spectral ve poly ile sonuclar\")\n",
    "print(\"Accuracy: \",accuracy_score(y, y_pred))\n",
    "print(\"Recall: \",recall_score(y, y_pred, average = 'macro'))\n",
    "print(\"Precision: \",precision_score(y, y_pred, average ='macro'))\n",
    "print(\"F1 Score : \",f1_score(y, y_pred, average='macro'))\n",
    "print(\"Cohens Kappa : \",cohen_kappa_score(y, y_pred))\n",
    "\n",
    "mlp_clf = MLPClassifier(activation = 'relu', hidden_layer_sizes=(200,), max_iter = 1000, solver='adam')\n",
    "y_pred = cross_val_predict(mlp_clf, spectral_poly_x, y, cv=5)\n",
    "\n",
    "print(\"\\n\\nNeural Net ve spectral ve poly ile sonuclar\")\n",
    "print(\"Accuracy: \",accuracy_score(y, y_pred))\n",
    "print(\"Recall: \",recall_score(y, y_pred, average = 'macro'))\n",
    "print(\"Precision: \",precision_score(y, y_pred, average ='macro'))\n",
    "print(\"F1 Score : \",f1_score(y, y_pred, average='macro'))\n",
    "print(\"Cohens Kappa : \",cohen_kappa_score(y, y_pred))"
   ]
  },
  {
   "cell_type": "code",
   "execution_count": 14,
   "metadata": {},
   "outputs": [
    {
     "name": "stdout",
     "output_type": "stream",
     "text": [
      "SVC ve MFCC ve poly ile sonuclar\n",
      "Accuracy:  0.618\n",
      "Recall:  0.618\n",
      "Precision:  0.614058078803033\n",
      "F1 Score :  0.6145834171666513\n",
      "Cohens Kappa :  0.5755555555555556\n",
      "\n",
      "\n",
      "Neural Net ve MFCC ve poly ile sonuclar\n",
      "Accuracy:  0.612\n",
      "Recall:  0.6119999999999999\n",
      "Precision:  0.6081960581228236\n",
      "F1 Score :  0.6089417084566382\n",
      "Cohens Kappa :  0.5688888888888888\n"
     ]
    }
   ],
   "source": [
    "svc_clf = sklearn.svm.SVC(C=30, degree=3,gamma='scale',kernel='rbf')\n",
    "y_pred= cross_val_predict(svc_clf, mfcc_poly_x, y, cv=5)\n",
    "print(\"SVC ve MFCC ve poly ile sonuclar\")\n",
    "print(\"Accuracy: \",accuracy_score(y, y_pred))\n",
    "print(\"Recall: \",recall_score(y, y_pred, average = 'macro'))\n",
    "print(\"Precision: \",precision_score(y, y_pred, average ='macro'))\n",
    "print(\"F1 Score : \",f1_score(y, y_pred, average='macro'))\n",
    "print(\"Cohens Kappa : \",cohen_kappa_score(y, y_pred))\n",
    "\n",
    "mlp_clf = MLPClassifier(activation = 'relu', hidden_layer_sizes=(200,), max_iter = 1000, solver='adam')\n",
    "y_pred = cross_val_predict(mlp_clf, mfcc_poly_x, y, cv=5)\n",
    "\n",
    "print(\"\\n\\nNeural Net ve MFCC ve poly ile sonuclar\")\n",
    "print(\"Accuracy: \",accuracy_score(y, y_pred))\n",
    "print(\"Recall: \",recall_score(y, y_pred, average = 'macro'))\n",
    "print(\"Precision: \",precision_score(y, y_pred, average ='macro'))\n",
    "print(\"F1 Score : \",f1_score(y, y_pred, average='macro'))\n",
    "print(\"Cohens Kappa : \",cohen_kappa_score(y, y_pred))"
   ]
  }
 ],
 "metadata": {
  "kernelspec": {
   "display_name": "Python 3",
   "language": "python",
   "name": "python3"
  },
  "language_info": {
   "codemirror_mode": {
    "name": "ipython",
    "version": 3
   },
   "file_extension": ".py",
   "mimetype": "text/x-python",
   "name": "python",
   "nbconvert_exporter": "python",
   "pygments_lexer": "ipython3",
   "version": "3.8.5"
  }
 },
 "nbformat": 4,
 "nbformat_minor": 4
}
